{
 "cells": [
  {
   "cell_type": "code",
   "execution_count": 13,
   "metadata": {
    "collapsed": true,
    "is_executing": true
   },
   "outputs": [],
   "source": [
    "import pandas as pd\n",
    "import numpy as np\n",
    "\n",
    "# Leer el archivo CSV\n",
    "df = pd.read_csv(\"../data/localidades.csv\")\n",
    "\n",
    "# Eliminar columnas no deseadas\n",
    "columnas_eliminar = ['fuente', 'id']\n",
    "df = df.drop(columns=columnas_eliminar)\n",
    "\n",
    "# Renombrar columnas\n",
    "nombres_columnas = {'categoria': 'Categoría', 'centroide_lat': 'Latitud', 'centroide_lon': 'Longitud',\n",
    "                    'departamento_id': 'ID Departamento', 'departamento_nombre': 'Departamento',\n",
    "                    'localidad_censal_id': 'ID Localidad Censal', 'localidad_censal_nombre': 'Localidad Censal',\n",
    "                    'municipio_id': 'ID Municipio', 'municipio_nombre': 'Municipio', 'nombre': 'Nombre',\n",
    "                    'provincia_id': 'ID Provincia', 'provincia_nombre': 'Provincia'}\n",
    "df = df.rename(columns=nombres_columnas)\n",
    "\n",
    "# Limpiar datos\n",
    "df['Categoría'] = df['Categoría'].str.strip()\n",
    "df['Departamento'] = df['Departamento'].str.strip()\n",
    "df['Localidad Censal'] = df['Localidad Censal'].str.strip()\n",
    "df['Municipio'] = df['Municipio'].str.strip()\n",
    "df['Nombre'] = df['Nombre'].str.strip()\n",
    "df['Provincia'] = df['Provincia'].str.strip()\n",
    "\n",
    "# Guardar el archivo CSV limpio\n",
    "df.to_csv('tu_archivo_limpiado.csv', index=False)\n"
   ]
  },
  {
   "cell_type": "code",
   "execution_count": null,
   "metadata": {
    "collapsed": false
   },
   "outputs": [],
   "source": []
  }
 ],
 "metadata": {
  "kernelspec": {
   "display_name": "Python 3",
   "language": "python",
   "name": "python3"
  },
  "language_info": {
   "codemirror_mode": {
    "name": "ipython",
    "version": 3
   },
   "file_extension": ".py",
   "mimetype": "text/x-python",
   "name": "python",
   "nbconvert_exporter": "python",
   "pygments_lexer": "ipython3",
   "version": "3.10.9"
  }
 },
 "nbformat": 4,
 "nbformat_minor": 0
}
